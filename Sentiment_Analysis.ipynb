{
  "nbformat": 4,
  "nbformat_minor": 0,
  "metadata": {
    "colab": {
      "name": "Sentiment Analysis.ipynb",
      "provenance": [],
      "collapsed_sections": []
    },
    "kernelspec": {
      "name": "python3",
      "display_name": "Python 3"
    },
    "language_info": {
      "name": "python"
    }
  },
  "cells": [
    {
      "cell_type": "code",
      "metadata": {
        "id": "XZ0rdFVhp5Fk"
      },
      "source": [
        ""
      ],
      "execution_count": null,
      "outputs": []
    },
    {
      "cell_type": "markdown",
      "metadata": {
        "id": "AAmyAq37p6tP"
      },
      "source": [
        "**Sentiment Analysis**"
      ]
    },
    {
      "cell_type": "code",
      "metadata": {
        "id": "d4h3vlbNp_KX"
      },
      "source": [
        "import pandas as pd\n",
        "import numpy as np\n",
        "import seaborn as sns\n",
        "import matplotlib.pyplot as plt\n"
      ],
      "execution_count": 9,
      "outputs": []
    },
    {
      "cell_type": "code",
      "metadata": {
        "id": "1IcQ4uRPqWbi"
      },
      "source": [
        "\n",
        "df=pd.read_csv('//content//drive//MyDrive//Usecase3_Dataset.csv')"
      ],
      "execution_count": 10,
      "outputs": []
    },
    {
      "cell_type": "code",
      "metadata": {
        "colab": {
          "base_uri": "https://localhost:8080/",
          "height": 415
        },
        "id": "YZQ1ztoerLZu",
        "outputId": "b479ca60-2c08-4abc-de6b-08390706d41d"
      },
      "source": [
        "df"
      ],
      "execution_count": 11,
      "outputs": [
        {
          "output_type": "execute_result",
          "data": {
            "text/html": [
              "<div>\n",
              "<style scoped>\n",
              "    .dataframe tbody tr th:only-of-type {\n",
              "        vertical-align: middle;\n",
              "    }\n",
              "\n",
              "    .dataframe tbody tr th {\n",
              "        vertical-align: top;\n",
              "    }\n",
              "\n",
              "    .dataframe thead th {\n",
              "        text-align: right;\n",
              "    }\n",
              "</style>\n",
              "<table border=\"1\" class=\"dataframe\">\n",
              "  <thead>\n",
              "    <tr style=\"text-align: right;\">\n",
              "      <th></th>\n",
              "      <th>airline_sentiment</th>\n",
              "      <th>airline</th>\n",
              "      <th>text</th>\n",
              "    </tr>\n",
              "  </thead>\n",
              "  <tbody>\n",
              "    <tr>\n",
              "      <th>0</th>\n",
              "      <td>neutral</td>\n",
              "      <td>Virgin America</td>\n",
              "      <td>@VirginAmerica What @dhepburn said.</td>\n",
              "    </tr>\n",
              "    <tr>\n",
              "      <th>1</th>\n",
              "      <td>positive</td>\n",
              "      <td>Virgin America</td>\n",
              "      <td>@VirginAmerica plus you've added commercials t...</td>\n",
              "    </tr>\n",
              "    <tr>\n",
              "      <th>2</th>\n",
              "      <td>neutral</td>\n",
              "      <td>Virgin America</td>\n",
              "      <td>@VirginAmerica I didn't today... Must mean I n...</td>\n",
              "    </tr>\n",
              "    <tr>\n",
              "      <th>3</th>\n",
              "      <td>negative</td>\n",
              "      <td>Virgin America</td>\n",
              "      <td>@VirginAmerica it's really aggressive to blast...</td>\n",
              "    </tr>\n",
              "    <tr>\n",
              "      <th>4</th>\n",
              "      <td>negative</td>\n",
              "      <td>Virgin America</td>\n",
              "      <td>@VirginAmerica and it's a really big bad thing...</td>\n",
              "    </tr>\n",
              "    <tr>\n",
              "      <th>...</th>\n",
              "      <td>...</td>\n",
              "      <td>...</td>\n",
              "      <td>...</td>\n",
              "    </tr>\n",
              "    <tr>\n",
              "      <th>14635</th>\n",
              "      <td>positive</td>\n",
              "      <td>American</td>\n",
              "      <td>@AmericanAir thank you we got on a different f...</td>\n",
              "    </tr>\n",
              "    <tr>\n",
              "      <th>14636</th>\n",
              "      <td>negative</td>\n",
              "      <td>American</td>\n",
              "      <td>@AmericanAir leaving over 20 minutes Late Flig...</td>\n",
              "    </tr>\n",
              "    <tr>\n",
              "      <th>14637</th>\n",
              "      <td>neutral</td>\n",
              "      <td>American</td>\n",
              "      <td>@AmericanAir Please bring American Airlines to...</td>\n",
              "    </tr>\n",
              "    <tr>\n",
              "      <th>14638</th>\n",
              "      <td>negative</td>\n",
              "      <td>American</td>\n",
              "      <td>@AmericanAir you have my money, you change my ...</td>\n",
              "    </tr>\n",
              "    <tr>\n",
              "      <th>14639</th>\n",
              "      <td>neutral</td>\n",
              "      <td>American</td>\n",
              "      <td>@AmericanAir we have 8 ppl so we need 2 know h...</td>\n",
              "    </tr>\n",
              "  </tbody>\n",
              "</table>\n",
              "<p>14640 rows × 3 columns</p>\n",
              "</div>"
            ],
            "text/plain": [
              "      airline_sentiment  ...                                               text\n",
              "0               neutral  ...                @VirginAmerica What @dhepburn said.\n",
              "1              positive  ...  @VirginAmerica plus you've added commercials t...\n",
              "2               neutral  ...  @VirginAmerica I didn't today... Must mean I n...\n",
              "3              negative  ...  @VirginAmerica it's really aggressive to blast...\n",
              "4              negative  ...  @VirginAmerica and it's a really big bad thing...\n",
              "...                 ...  ...                                                ...\n",
              "14635          positive  ...  @AmericanAir thank you we got on a different f...\n",
              "14636          negative  ...  @AmericanAir leaving over 20 minutes Late Flig...\n",
              "14637           neutral  ...  @AmericanAir Please bring American Airlines to...\n",
              "14638          negative  ...  @AmericanAir you have my money, you change my ...\n",
              "14639           neutral  ...  @AmericanAir we have 8 ppl so we need 2 know h...\n",
              "\n",
              "[14640 rows x 3 columns]"
            ]
          },
          "metadata": {
            "tags": []
          },
          "execution_count": 11
        }
      ]
    },
    {
      "cell_type": "code",
      "metadata": {
        "colab": {
          "base_uri": "https://localhost:8080/",
          "height": 202
        },
        "id": "eI8yY_y7rSgF",
        "outputId": "b3da8ba4-d12a-4785-9de7-bc5a5a59f820"
      },
      "source": [
        "df.head()"
      ],
      "execution_count": 12,
      "outputs": [
        {
          "output_type": "execute_result",
          "data": {
            "text/html": [
              "<div>\n",
              "<style scoped>\n",
              "    .dataframe tbody tr th:only-of-type {\n",
              "        vertical-align: middle;\n",
              "    }\n",
              "\n",
              "    .dataframe tbody tr th {\n",
              "        vertical-align: top;\n",
              "    }\n",
              "\n",
              "    .dataframe thead th {\n",
              "        text-align: right;\n",
              "    }\n",
              "</style>\n",
              "<table border=\"1\" class=\"dataframe\">\n",
              "  <thead>\n",
              "    <tr style=\"text-align: right;\">\n",
              "      <th></th>\n",
              "      <th>airline_sentiment</th>\n",
              "      <th>airline</th>\n",
              "      <th>text</th>\n",
              "    </tr>\n",
              "  </thead>\n",
              "  <tbody>\n",
              "    <tr>\n",
              "      <th>0</th>\n",
              "      <td>neutral</td>\n",
              "      <td>Virgin America</td>\n",
              "      <td>@VirginAmerica What @dhepburn said.</td>\n",
              "    </tr>\n",
              "    <tr>\n",
              "      <th>1</th>\n",
              "      <td>positive</td>\n",
              "      <td>Virgin America</td>\n",
              "      <td>@VirginAmerica plus you've added commercials t...</td>\n",
              "    </tr>\n",
              "    <tr>\n",
              "      <th>2</th>\n",
              "      <td>neutral</td>\n",
              "      <td>Virgin America</td>\n",
              "      <td>@VirginAmerica I didn't today... Must mean I n...</td>\n",
              "    </tr>\n",
              "    <tr>\n",
              "      <th>3</th>\n",
              "      <td>negative</td>\n",
              "      <td>Virgin America</td>\n",
              "      <td>@VirginAmerica it's really aggressive to blast...</td>\n",
              "    </tr>\n",
              "    <tr>\n",
              "      <th>4</th>\n",
              "      <td>negative</td>\n",
              "      <td>Virgin America</td>\n",
              "      <td>@VirginAmerica and it's a really big bad thing...</td>\n",
              "    </tr>\n",
              "  </tbody>\n",
              "</table>\n",
              "</div>"
            ],
            "text/plain": [
              "  airline_sentiment  ...                                               text\n",
              "0           neutral  ...                @VirginAmerica What @dhepburn said.\n",
              "1          positive  ...  @VirginAmerica plus you've added commercials t...\n",
              "2           neutral  ...  @VirginAmerica I didn't today... Must mean I n...\n",
              "3          negative  ...  @VirginAmerica it's really aggressive to blast...\n",
              "4          negative  ...  @VirginAmerica and it's a really big bad thing...\n",
              "\n",
              "[5 rows x 3 columns]"
            ]
          },
          "metadata": {
            "tags": []
          },
          "execution_count": 12
        }
      ]
    },
    {
      "cell_type": "code",
      "metadata": {
        "colab": {
          "base_uri": "https://localhost:8080/",
          "height": 171
        },
        "id": "Ff8YwiWwxULO",
        "outputId": "0fdbe8ec-94e7-4e76-cc9b-503d838859a1"
      },
      "source": [
        "df.describe()"
      ],
      "execution_count": 13,
      "outputs": [
        {
          "output_type": "execute_result",
          "data": {
            "text/html": [
              "<div>\n",
              "<style scoped>\n",
              "    .dataframe tbody tr th:only-of-type {\n",
              "        vertical-align: middle;\n",
              "    }\n",
              "\n",
              "    .dataframe tbody tr th {\n",
              "        vertical-align: top;\n",
              "    }\n",
              "\n",
              "    .dataframe thead th {\n",
              "        text-align: right;\n",
              "    }\n",
              "</style>\n",
              "<table border=\"1\" class=\"dataframe\">\n",
              "  <thead>\n",
              "    <tr style=\"text-align: right;\">\n",
              "      <th></th>\n",
              "      <th>airline_sentiment</th>\n",
              "      <th>airline</th>\n",
              "      <th>text</th>\n",
              "    </tr>\n",
              "  </thead>\n",
              "  <tbody>\n",
              "    <tr>\n",
              "      <th>count</th>\n",
              "      <td>14640</td>\n",
              "      <td>14640</td>\n",
              "      <td>14640</td>\n",
              "    </tr>\n",
              "    <tr>\n",
              "      <th>unique</th>\n",
              "      <td>3</td>\n",
              "      <td>6</td>\n",
              "      <td>14427</td>\n",
              "    </tr>\n",
              "    <tr>\n",
              "      <th>top</th>\n",
              "      <td>negative</td>\n",
              "      <td>United</td>\n",
              "      <td>@united thanks</td>\n",
              "    </tr>\n",
              "    <tr>\n",
              "      <th>freq</th>\n",
              "      <td>9178</td>\n",
              "      <td>3822</td>\n",
              "      <td>6</td>\n",
              "    </tr>\n",
              "  </tbody>\n",
              "</table>\n",
              "</div>"
            ],
            "text/plain": [
              "       airline_sentiment airline            text\n",
              "count              14640   14640           14640\n",
              "unique                 3       6           14427\n",
              "top             negative  United  @united thanks\n",
              "freq                9178    3822               6"
            ]
          },
          "metadata": {
            "tags": []
          },
          "execution_count": 13
        }
      ]
    },
    {
      "cell_type": "code",
      "metadata": {
        "colab": {
          "base_uri": "https://localhost:8080/"
        },
        "id": "BDYxVfxprVvp",
        "outputId": "2b384201-8e18-445a-aefd-5df8ba903cbf"
      },
      "source": [
        "df.columns"
      ],
      "execution_count": 5,
      "outputs": [
        {
          "output_type": "execute_result",
          "data": {
            "text/plain": [
              "Index(['airline_sentiment', 'airline', 'text'], dtype='object')"
            ]
          },
          "metadata": {
            "tags": []
          },
          "execution_count": 5
        }
      ]
    },
    {
      "cell_type": "code",
      "metadata": {
        "colab": {
          "base_uri": "https://localhost:8080/"
        },
        "id": "djMAdFhtrgK_",
        "outputId": "d244ceec-e104-47fd-ed95-51603c799767"
      },
      "source": [
        "df.shape"
      ],
      "execution_count": 6,
      "outputs": [
        {
          "output_type": "execute_result",
          "data": {
            "text/plain": [
              "(14640, 3)"
            ]
          },
          "metadata": {
            "tags": []
          },
          "execution_count": 6
        }
      ]
    },
    {
      "cell_type": "code",
      "metadata": {
        "colab": {
          "base_uri": "https://localhost:8080/"
        },
        "id": "b1jAwkpUrld-",
        "outputId": "66e24dd4-fb27-4e68-f8cb-93b39525d285"
      },
      "source": [
        "df.isnull().sum()"
      ],
      "execution_count": 7,
      "outputs": [
        {
          "output_type": "execute_result",
          "data": {
            "text/plain": [
              "airline_sentiment    0\n",
              "airline              0\n",
              "text                 0\n",
              "dtype: int64"
            ]
          },
          "metadata": {
            "tags": []
          },
          "execution_count": 7
        }
      ]
    },
    {
      "cell_type": "code",
      "metadata": {
        "colab": {
          "base_uri": "https://localhost:8080/"
        },
        "id": "CDeo_Ai5r0zd",
        "outputId": "ad8ea281-3865-4481-bba8-ccc12383c239"
      },
      "source": [
        "df.info()"
      ],
      "execution_count": 8,
      "outputs": [
        {
          "output_type": "stream",
          "text": [
            "<class 'pandas.core.frame.DataFrame'>\n",
            "RangeIndex: 14640 entries, 0 to 14639\n",
            "Data columns (total 3 columns):\n",
            " #   Column             Non-Null Count  Dtype \n",
            "---  ------             --------------  ----- \n",
            " 0   airline_sentiment  14640 non-null  object\n",
            " 1   airline            14640 non-null  object\n",
            " 2   text               14640 non-null  object\n",
            "dtypes: object(3)\n",
            "memory usage: 343.2+ KB\n"
          ],
          "name": "stdout"
        }
      ]
    },
    {
      "cell_type": "code",
      "metadata": {
        "colab": {
          "base_uri": "https://localhost:8080/"
        },
        "id": "4mNJcjkfwzkp",
        "outputId": "ca70803d-a59a-436b-b838-543362201dbd"
      },
      "source": [
        "df.airline_sentiment.value_counts()"
      ],
      "execution_count": 9,
      "outputs": [
        {
          "output_type": "execute_result",
          "data": {
            "text/plain": [
              "negative    9178\n",
              "neutral     3099\n",
              "positive    2363\n",
              "Name: airline_sentiment, dtype: int64"
            ]
          },
          "metadata": {
            "tags": []
          },
          "execution_count": 9
        }
      ]
    },
    {
      "cell_type": "code",
      "metadata": {
        "id": "9CaH_QJx651g"
      },
      "source": [
        ""
      ],
      "execution_count": 9,
      "outputs": []
    },
    {
      "cell_type": "markdown",
      "metadata": {
        "id": "igZ3mzTF69si"
      },
      "source": [
        "# **Exploration of Data**"
      ]
    },
    {
      "cell_type": "code",
      "metadata": {
        "colab": {
          "base_uri": "https://localhost:8080/",
          "height": 483
        },
        "id": "iIK9Gh1o2dMq",
        "outputId": "57317873-d842-4b46-a64c-c21550af01a2"
      },
      "source": [
        "#Number of tweets from each airline#\n",
        "plt.figure(figsize=(10,8))\n",
        "df.airline.value_counts().plot(kind='pie', autopct = '%1.0f%%')\n"
      ],
      "execution_count": 10,
      "outputs": [
        {
          "output_type": "execute_result",
          "data": {
            "text/plain": [
              "<matplotlib.axes._subplots.AxesSubplot at 0x7f858b134850>"
            ]
          },
          "metadata": {
            "tags": []
          },
          "execution_count": 10
        },
        {
          "output_type": "display_data",
          "data": {
            "image/png": "[encoded data removed]",
            "text/plain": [
              "<Figure size 720x576 with 1 Axes>"
            ]
          },
          "metadata": {
            "tags": []
          }
        }
      ]
    },
    {
      "cell_type": "code",
      "metadata": {
        "colab": {
          "base_uri": "https://localhost:8080/",
          "height": 483
        },
        "id": "WCOObNEP4roL",
        "outputId": "21ef3715-0171-49b8-e619-96e6964894c1"
      },
      "source": [
        "#Total number of positive, negative and neutral tweets#\n",
        "plt.figure(figsize=(10,8))\n",
        "df.airline_sentiment.value_counts().plot(kind='pie', autopct = '%1.0f%%', colors = ['blue', 'green', 'orange'])"
      ],
      "execution_count": 11,
      "outputs": [
        {
          "output_type": "execute_result",
          "data": {
            "text/plain": [
              "<matplotlib.axes._subplots.AxesSubplot at 0x7f858a3ec8d0>"
            ]
          },
          "metadata": {
            "tags": []
          },
          "execution_count": 11
        },
        {
          "output_type": "display_data",
          "data": {
            "image/png": "[encoded data removed]",
            "text/plain": [
              "<Figure size 720x576 with 1 Axes>"
            ]
          },
          "metadata": {
            "tags": []
          }
        }
      ]
    },
    {
      "cell_type": "code",
      "metadata": {
        "colab": {
          "base_uri": "https://localhost:8080/",
          "height": 553
        },
        "id": "LwCJUW3qsekz",
        "outputId": "61c56098-dac8-4a6b-f289-09eb1e3062c2"
      },
      "source": [
        "plt.figure(figsize=(10,8))\n",
        "sns.countplot(df['airline_sentiment'], order =df.airline_sentiment.value_counts().index,palette= 'bright')\n",
        "plt.show()"
      ],
      "execution_count": 12,
      "outputs": [
        {
          "output_type": "stream",
          "text": [
            "/usr/local/lib/python3.7/dist-packages/seaborn/_decorators.py:43: FutureWarning: Pass the following variable as a keyword arg: x. From version 0.12, the only valid positional argument will be `data`, and passing other arguments without an explicit keyword will result in an error or misinterpretation.\n",
            "  FutureWarning\n"
          ],
          "name": "stderr"
        },
        {
          "output_type": "display_data",
          "data": {
            "image/png": "[encoded data removed]",
            "text/plain": [
              "<Figure size 720x576 with 1 Axes>"
            ]
          },
          "metadata": {
            "tags": [],
            "needs_background": "light"
          }
        }
      ]
    },
    {
      "cell_type": "code",
      "metadata": {
        "colab": {
          "base_uri": "https://localhost:8080/",
          "height": 729
        },
        "id": "pWNLJjgDtw88",
        "outputId": "8d955aa4-4570-42d6-9fde-78ee7d0a256e"
      },
      "source": [
        "sentiment= sns.FacetGrid(df, col=\"airline\", col_wrap=3, height=5, aspect =0.7)\n",
        "sentiment = sentiment.map(sns.countplot,\"airline_sentiment\",order=df.airline_sentiment.value_counts().index, palette=\"bright\")\n",
        "plt.show()"
      ],
      "execution_count": 13,
      "outputs": [
        {
          "output_type": "display_data",
          "data": {
            "image/png": "[encoded data removed]",
            "text/plain": [
              "<Figure size 756x720 with 6 Axes>"
            ]
          },
          "metadata": {
            "tags": [],
            "needs_background": "light"
          }
        }
      ]
    },
    {
      "cell_type": "code",
      "metadata": {
        "colab": {
          "base_uri": "https://localhost:8080/"
        },
        "id": "JsyXD5aR7y3N",
        "outputId": "dc8c2dc7-c51a-497d-fa86-8881908fa61e"
      },
      "source": [
        "df.index"
      ],
      "execution_count": 14,
      "outputs": [
        {
          "output_type": "execute_result",
          "data": {
            "text/plain": [
              "RangeIndex(start=0, stop=14640, step=1)"
            ]
          },
          "metadata": {
            "tags": []
          },
          "execution_count": 14
        }
      ]
    },
    {
      "cell_type": "code",
      "metadata": {
        "id": "-b1OrePC9QFN"
      },
      "source": [
        "features = df.iloc[:,2].values\n",
        "labels = df.iloc[:, 0].values"
      ],
      "execution_count": 49,
      "outputs": []
    },
    {
      "cell_type": "code",
      "metadata": {
        "colab": {
          "base_uri": "https://localhost:8080/"
        },
        "id": "fKsiCv-t9wUf",
        "outputId": "9293242f-cf86-444b-f46a-931f928db0a9"
      },
      "source": [
        "features"
      ],
      "execution_count": 50,
      "outputs": [
        {
          "output_type": "execute_result",
          "data": {
            "text/plain": [
              "array(['@VirginAmerica What @dhepburn said.',\n",
              "       \"@VirginAmerica plus you've added commercials to the experience... tacky.\",\n",
              "       \"@VirginAmerica I didn't today... Must mean I need to take another trip!\",\n",
              "       ...,\n",
              "       '@AmericanAir Please bring American Airlines to #BlackBerry10',\n",
              "       \"@AmericanAir you have my money, you change my flight, and don't answer your phones! Any other suggestions so I can make my commitment??\",\n",
              "       '@AmericanAir we have 8 ppl so we need 2 know how many seats are on the next flight. Plz put us on standby for 4 people on the next flight?'],\n",
              "      dtype=object)"
            ]
          },
          "metadata": {
            "tags": []
          },
          "execution_count": 50
        }
      ]
    },
    {
      "cell_type": "code",
      "metadata": {
        "colab": {
          "base_uri": "https://localhost:8080/"
        },
        "id": "qe2P4vFI9y-f",
        "outputId": "f601cdca-767b-430d-bedf-d96d35eca30a"
      },
      "source": [
        "labels"
      ],
      "execution_count": 17,
      "outputs": [
        {
          "output_type": "execute_result",
          "data": {
            "text/plain": [
              "array(['neutral', 'positive', 'neutral', ..., 'neutral', 'negative',\n",
              "       'neutral'], dtype=object)"
            ]
          },
          "metadata": {
            "tags": []
          },
          "execution_count": 17
        }
      ]
    },
    {
      "cell_type": "code",
      "metadata": {
        "id": "vgKEkMRX929-"
      },
      "source": [
        "import re\n",
        "processed_features = []\n",
        "\n",
        "for sentence in range(0, len(features)):\n",
        "    # Removed all the special characters\n",
        "    processed_feature = re.sub(r'\\W', ' ', str(features[sentence]))\n",
        "\n",
        "    # removed all single characters\n",
        "    processed_feature= re.sub(r'\\s+[a-zA-Z]\\s+', ' ', processed_feature)\n",
        "\n",
        "    # Substituted multiple spaces with single space\n",
        "    processed_feature = re.sub(r'\\s+', ' ', processed_feature, flags=re.I)\n",
        "\n",
        "    # Converted to Lowercase\n",
        "    processed_feature = processed_feature.lower()\n",
        "\n",
        "    processed_features.append(processed_feature)\n"
      ],
      "execution_count": 61,
      "outputs": []
    },
    {
      "cell_type": "code",
      "metadata": {
        "colab": {
          "base_uri": "https://localhost:8080/"
        },
        "id": "0Mwumzya_-sz",
        "outputId": "4a243c72-13fc-4a88-ac96-513abb361135"
      },
      "source": [
        "processed_features[0:10]"
      ],
      "execution_count": 62,
      "outputs": [
        {
          "output_type": "execute_result",
          "data": {
            "text/plain": [
              "[' virginamerica what dhepburn said ',\n",
              " ' virginamerica plus you ve added commercials to the experience tacky ',\n",
              " ' virginamerica didn today must mean need to take another trip ',\n",
              " ' virginamerica it really aggressive to blast obnoxious entertainment in your guests faces amp they have little recourse',\n",
              " ' virginamerica and it a really big bad thing about it',\n",
              " ' virginamerica seriously would pay 30 flight for seats that didn have this playing it really the only bad thing about flying va',\n",
              " ' virginamerica yes nearly every time fly vx this ear worm won go away ',\n",
              " ' virginamerica really missed prime opportunity for men without hats parody there https co mwpg7grezp',\n",
              " ' virginamerica well didn but now do d',\n",
              " ' virginamerica it was amazing and arrived an hour early you re too good to me ']"
            ]
          },
          "metadata": {
            "tags": []
          },
          "execution_count": 62
        }
      ]
    },
    {
      "cell_type": "code",
      "metadata": {
        "colab": {
          "base_uri": "https://localhost:8080/"
        },
        "id": "gKwpdwS-1-Ry",
        "outputId": "7ede43e6-d782-46c5-89d8-c7d4a5b0d2b5"
      },
      "source": [
        "len(processed_features)"
      ],
      "execution_count": 63,
      "outputs": [
        {
          "output_type": "execute_result",
          "data": {
            "text/plain": [
              "14640"
            ]
          },
          "metadata": {
            "tags": []
          },
          "execution_count": 63
        }
      ]
    },
    {
      "cell_type": "code",
      "metadata": {
        "colab": {
          "base_uri": "https://localhost:8080/"
        },
        "id": "xhUU8cVfAOUJ",
        "outputId": "3f739910-5840-4b0d-9548-572fbb46d07e"
      },
      "source": [
        "import nltk\n",
        "nltk.download('stopwords')\n",
        "from nltk.corpus import stopwords\n",
        "from sklearn.feature_extraction.text import TfidfVectorizer"
      ],
      "execution_count": 64,
      "outputs": [
        {
          "output_type": "stream",
          "text": [
            "[nltk_data] Downloading package stopwords to /root/nltk_data...\n",
            "[nltk_data]   Package stopwords is already up-to-date!\n"
          ],
          "name": "stdout"
        }
      ]
    },
    {
      "cell_type": "code",
      "metadata": {
        "id": "zf71uF6yAbrQ"
      },
      "source": [
        "vectorizer = TfidfVectorizer(max_features=2500, min_df=100, max_df=0.8, stop_words=stopwords.words('english'))\n",
        "processed_features = vectorizer.fit_transform(processed_features)"
      ],
      "execution_count": 65,
      "outputs": []
    },
    {
      "cell_type": "code",
      "metadata": {
        "colab": {
          "base_uri": "https://localhost:8080/"
        },
        "id": "V96FHY2X2uXt",
        "outputId": "bda1391a-7729-461f-f283-57260745e2c3"
      },
      "source": [
        "processed_features"
      ],
      "execution_count": 70,
      "outputs": [
        {
          "output_type": "execute_result",
          "data": {
            "text/plain": [
              "<14640x238 sparse matrix of type '<class 'numpy.float64'>'\n",
              "\twith 76522 stored elements in Compressed Sparse Row format>"
            ]
          },
          "metadata": {
            "tags": []
          },
          "execution_count": 70
        }
      ]
    },
    {
      "cell_type": "code",
      "metadata": {
        "colab": {
          "base_uri": "https://localhost:8080/"
        },
        "id": "srnkkl6OA7gO",
        "outputId": "6c5c26a3-3b43-441f-d527-d3f437924791"
      },
      "source": [
        "processed_features.getnnz()"
      ],
      "execution_count": 69,
      "outputs": [
        {
          "output_type": "execute_result",
          "data": {
            "text/plain": [
              "76522"
            ]
          },
          "metadata": {
            "tags": []
          },
          "execution_count": 69
        }
      ]
    },
    {
      "cell_type": "code",
      "metadata": {
        "colab": {
          "base_uri": "https://localhost:8080/"
        },
        "id": "-HPnaNZPyyVL",
        "outputId": "68185d05-452b-4081-81d4-eb504e3ff0ca"
      },
      "source": [
        "type(processed_features)"
      ],
      "execution_count": 30,
      "outputs": [
        {
          "output_type": "execute_result",
          "data": {
            "text/plain": [
              "list"
            ]
          },
          "metadata": {
            "tags": []
          },
          "execution_count": 30
        }
      ]
    },
    {
      "cell_type": "code",
      "metadata": {
        "colab": {
          "base_uri": "https://localhost:8080/"
        },
        "id": "cjg_txX6vMJf",
        "outputId": "89b6df25-4815-4b5c-f2b4-c7a7c8c158c4"
      },
      "source": [
        "import nltk\n",
        "nltk.download('punkt')\n",
        "from gensim.models import Word2Vec\n"
      ],
      "execution_count": 23,
      "outputs": [
        {
          "output_type": "stream",
          "text": [
            "[nltk_data] Downloading package punkt to /root/nltk_data...\n",
            "[nltk_data]   Unzipping tokenizers/punkt.zip.\n"
          ],
          "name": "stdout"
        }
      ]
    },
    {
      "cell_type": "code",
      "metadata": {
        "id": "KudXzulUDEJO"
      },
      "source": [
        "from sklearn.model_selection import train_test_split\n",
        "\n",
        "X_train, X_test, y_train, y_test = train_test_split(processed_features, labels, test_size=0.2, random_state=10)"
      ],
      "execution_count": 23,
      "outputs": []
    },
    {
      "cell_type": "code",
      "metadata": {
        "colab": {
          "base_uri": "https://localhost:8080/"
        },
        "id": "izSXNs-vDI8c",
        "outputId": "b751186a-bafa-4a31-82e3-7195d889ecf4"
      },
      "source": [
        "from sklearn.ensemble import RandomForestClassifier\n",
        "\n",
        "text_classifier = RandomForestClassifier(n_estimators=200, random_state=10, n_jobs=-1)\n",
        "text_classifier.fit(X_train, y_train)"
      ],
      "execution_count": 24,
      "outputs": [
        {
          "output_type": "execute_result",
          "data": {
            "text/plain": [
              "RandomForestClassifier(bootstrap=True, ccp_alpha=0.0, class_weight=None,\n",
              "                       criterion='gini', max_depth=None, max_features='auto',\n",
              "                       max_leaf_nodes=None, max_samples=None,\n",
              "                       min_impurity_decrease=0.0, min_impurity_split=None,\n",
              "                       min_samples_leaf=1, min_samples_split=2,\n",
              "                       min_weight_fraction_leaf=0.0, n_estimators=200,\n",
              "                       n_jobs=-1, oob_score=False, random_state=10, verbose=0,\n",
              "                       warm_start=False)"
            ]
          },
          "metadata": {
            "tags": []
          },
          "execution_count": 24
        }
      ]
    },
    {
      "cell_type": "code",
      "metadata": {
        "id": "fBc7uM-NDTFG"
      },
      "source": [
        "predictions = text_classifier.predict(X_test)"
      ],
      "execution_count": 25,
      "outputs": []
    },
    {
      "cell_type": "code",
      "metadata": {
        "colab": {
          "base_uri": "https://localhost:8080/"
        },
        "id": "DcOpTcVXDYYG",
        "outputId": "15604c63-d6c4-4893-d3d1-438fa06666cb"
      },
      "source": [
        "from sklearn.metrics import confusion_matrix, accuracy_score\n",
        "\n",
        "print(confusion_matrix(y_test,predictions))\n",
        "print('accuracy score',accuracy_score(y_test, predictions))\n",
        "print(metrics.classification_report(y_test, Final_predictions, digits=3))"
      ],
      "execution_count": 54,
      "outputs": [
        {
          "output_type": "stream",
          "text": [
            "[[1603  107   71]\n",
            " [ 360  254   66]\n",
            " [ 135   60  272]]\n",
            "accuracy score 0.7271174863387978\n",
            "              precision    recall  f1-score   support\n",
            "\n",
            "    negative      0.710     0.963     0.817      1781\n",
            "     neutral      0.686     0.274     0.391       680\n",
            "    positive      0.764     0.396     0.522       467\n",
            "\n",
            "    accuracy                          0.712      2928\n",
            "   macro avg      0.720     0.544     0.577      2928\n",
            "weighted avg      0.713     0.712     0.671      2928\n",
            "\n"
          ],
          "name": "stdout"
        }
      ]
    },
    {
      "cell_type": "code",
      "metadata": {
        "id": "D7Wv1bHlITE4"
      },
      "source": [
        "from sklearn.model_selection import cross_val_score\n",
        "from sklearn.model_selection import cross_validate\n",
        "from sklearn.model_selection import GridSearchCV"
      ],
      "execution_count": 27,
      "outputs": []
    },
    {
      "cell_type": "code",
      "metadata": {
        "id": "Rzv1RAz3Nt46"
      },
      "source": [
        "param_grid = {\n",
        "    'bootstrap': [True],\n",
        "    'max_depth': [80, 90, 100, 110],\n",
        "    'max_features': [2, 3],\n",
        "    'min_samples_leaf': [3, 4, 5],\n",
        "    'min_samples_split': [8, 10, 12],\n",
        "    'n_estimators': [100, 200, 300, 1000]\n",
        "}\n",
        "\n"
      ],
      "execution_count": 28,
      "outputs": []
    },
    {
      "cell_type": "code",
      "metadata": {
        "colab": {
          "base_uri": "https://localhost:8080/"
        },
        "id": "6xinwsT2Hn4j",
        "outputId": "5dec29e1-4710-46ff-b277-9dc72442cee4"
      },
      "source": [
        "gridsearch = GridSearchCV(estimator=text_classifier, param_grid=param_grid, cv=5, n_jobs=-1, verbose=3)\n",
        "gridsearch.fit(X_train, y_train)"
      ],
      "execution_count": 30,
      "outputs": [
        {
          "output_type": "stream",
          "text": [
            "Fitting 5 folds for each of 288 candidates, totalling 1440 fits\n"
          ],
          "name": "stdout"
        },
        {
          "output_type": "stream",
          "text": [
            "[Parallel(n_jobs=-1)]: Using backend LokyBackend with 2 concurrent workers.\n",
            "[Parallel(n_jobs=-1)]: Done  28 tasks      | elapsed:   53.2s\n",
            "[Parallel(n_jobs=-1)]: Done 124 tasks      | elapsed:  4.5min\n",
            "[Parallel(n_jobs=-1)]: Done 284 tasks      | elapsed: 10.9min\n",
            "[Parallel(n_jobs=-1)]: Done 508 tasks      | elapsed: 19.2min\n",
            "[Parallel(n_jobs=-1)]: Done 796 tasks      | elapsed: 30.8min\n",
            "[Parallel(n_jobs=-1)]: Done 1148 tasks      | elapsed: 44.7min\n",
            "[Parallel(n_jobs=-1)]: Done 1440 out of 1440 | elapsed: 56.5min finished\n"
          ],
          "name": "stderr"
        },
        {
          "output_type": "execute_result",
          "data": {
            "text/plain": [
              "GridSearchCV(cv=5, error_score=nan,\n",
              "             estimator=RandomForestClassifier(bootstrap=True, ccp_alpha=0.0,\n",
              "                                              class_weight=None,\n",
              "                                              criterion='gini', max_depth=None,\n",
              "                                              max_features='auto',\n",
              "                                              max_leaf_nodes=None,\n",
              "                                              max_samples=None,\n",
              "                                              min_impurity_decrease=0.0,\n",
              "                                              min_impurity_split=None,\n",
              "                                              min_samples_leaf=1,\n",
              "                                              min_samples_split=2,\n",
              "                                              min_weight_fraction_leaf=0.0,\n",
              "                                              n_estimators=200, n_jobs=-1,\n",
              "                                              oob_score=False, random_state=10,\n",
              "                                              verbose=0, warm_start=False),\n",
              "             iid='deprecated', n_jobs=-1,\n",
              "             param_grid={'bootstrap': [True], 'max_depth': [80, 90, 100, 110],\n",
              "                         'max_features': [2, 3], 'min_samples_leaf': [3, 4, 5],\n",
              "                         'min_samples_split': [8, 10, 12],\n",
              "                         'n_estimators': [100, 200, 300, 1000]},\n",
              "             pre_dispatch='2*n_jobs', refit=True, return_train_score=False,\n",
              "             scoring=None, verbose=3)"
            ]
          },
          "metadata": {
            "tags": []
          },
          "execution_count": 30
        }
      ]
    },
    {
      "cell_type": "code",
      "metadata": {
        "colab": {
          "base_uri": "https://localhost:8080/"
        },
        "id": "v3VmcuImkMAy",
        "outputId": "02d9d2d4-56b7-498d-cd4f-f38d152bbdbe"
      },
      "source": [
        "gridsearch.best_params_"
      ],
      "execution_count": 32,
      "outputs": [
        {
          "output_type": "execute_result",
          "data": {
            "text/plain": [
              "{'bootstrap': True,\n",
              " 'max_depth': 110,\n",
              " 'max_features': 3,\n",
              " 'min_samples_leaf': 3,\n",
              " 'min_samples_split': 10,\n",
              " 'n_estimators': 100}"
            ]
          },
          "metadata": {
            "tags": []
          },
          "execution_count": 32
        }
      ]
    },
    {
      "cell_type": "code",
      "metadata": {
        "id": "d67iTqZXkN9u"
      },
      "source": [
        "Final_model = RandomForestClassifier(n_estimators=100, random_state=10, bootstrap= True,\n",
        " max_depth = 110,\n",
        " max_features = 3,\n",
        " min_samples_leaf = 3,\n",
        " min_samples_split = 10,\n",
        " n_jobs=-1)"
      ],
      "execution_count": 34,
      "outputs": []
    },
    {
      "cell_type": "code",
      "metadata": {
        "colab": {
          "base_uri": "https://localhost:8080/"
        },
        "id": "tLG8U7NYkTqa",
        "outputId": "8b81593a-12c0-4d65-dc89-f2e0f7f1dedc"
      },
      "source": [
        "Final_model.fit(X_train, y_train)"
      ],
      "execution_count": 35,
      "outputs": [
        {
          "output_type": "execute_result",
          "data": {
            "text/plain": [
              "RandomForestClassifier(bootstrap=True, ccp_alpha=0.0, class_weight=None,\n",
              "                       criterion='gini', max_depth=110, max_features=3,\n",
              "                       max_leaf_nodes=None, max_samples=None,\n",
              "                       min_impurity_decrease=0.0, min_impurity_split=None,\n",
              "                       min_samples_leaf=3, min_samples_split=10,\n",
              "                       min_weight_fraction_leaf=0.0, n_estimators=100,\n",
              "                       n_jobs=-1, oob_score=False, random_state=10, verbose=0,\n",
              "                       warm_start=False)"
            ]
          },
          "metadata": {
            "tags": []
          },
          "execution_count": 35
        }
      ]
    },
    {
      "cell_type": "code",
      "metadata": {
        "id": "4LB4GJnSlvba"
      },
      "source": [
        "Final_predictions = Final_model.predict(X_test)"
      ],
      "execution_count": 36,
      "outputs": []
    },
    {
      "cell_type": "code",
      "metadata": {
        "id": "LwhBTuotrnlr"
      },
      "source": [
        "from sklearn.metrics import multilabel_confusion_matrix\n",
        "from sklearn import metrics"
      ],
      "execution_count": 50,
      "outputs": []
    },
    {
      "cell_type": "code",
      "metadata": {
        "colab": {
          "base_uri": "https://localhost:8080/"
        },
        "id": "_i1Vz8gUl2h3",
        "outputId": "70f24edc-0f23-43d2-f475-c6819892ca62"
      },
      "source": [
        "print(confusion_matrix(y_test,Final_predictions))\n",
        "print('accuracy score',accuracy_score(y_test, Final_predictions))\n",
        "print(metrics.classification_report(y_test, Final_predictions, digits=3))"
      ],
      "execution_count": 53,
      "outputs": [
        {
          "output_type": "stream",
          "text": [
            "[[1715   44   22]\n",
            " [ 459  186   35]\n",
            " [ 241   41  185]]\n",
            "accuracy score 0.712431693989071\n",
            "              precision    recall  f1-score   support\n",
            "\n",
            "    negative      0.710     0.963     0.817      1781\n",
            "     neutral      0.686     0.274     0.391       680\n",
            "    positive      0.764     0.396     0.522       467\n",
            "\n",
            "    accuracy                          0.712      2928\n",
            "   macro avg      0.720     0.544     0.577      2928\n",
            "weighted avg      0.713     0.712     0.671      2928\n",
            "\n"
          ],
          "name": "stdout"
        }
      ]
    },
    {
      "cell_type": "code",
      "metadata": {
        "id": "vWBlw1uUtk11"
      },
      "source": [
        "from sklearn.metrics import roc_auc_score"
      ],
      "execution_count": 55,
      "outputs": []
    },
    {
      "cell_type": "code",
      "metadata": {
        "colab": {
          "base_uri": "https://localhost:8080/"
        },
        "id": "Znl_JVGCwRvE",
        "outputId": "6f88de01-9c29-4629-9a95-ae62e098db2a"
      },
      "source": [
        "print(Final_model.predict_proba(X_test))"
      ],
      "execution_count": 64,
      "outputs": [
        {
          "output_type": "stream",
          "text": [
            "[[0.82221984 0.07840271 0.09937745]\n",
            " [0.33935118 0.31968749 0.34096133]\n",
            " [0.78216859 0.09035978 0.12747163]\n",
            " ...\n",
            " [0.85164406 0.08519444 0.0631615 ]\n",
            " [0.87371812 0.08865678 0.03762509]\n",
            " [0.54377788 0.29238239 0.16383973]]\n"
          ],
          "name": "stdout"
        }
      ]
    },
    {
      "cell_type": "code",
      "metadata": {
        "colab": {
          "base_uri": "https://localhost:8080/"
        },
        "id": "TP_GOLKEttFR",
        "outputId": "11431751-b5c1-47cb-96ed-f2dea3f3d013"
      },
      "source": [
        "print(roc_auc_score(y_test, Final_model.predict_proba(X_test), multi_class = 'ovr'))"
      ],
      "execution_count": 67,
      "outputs": [
        {
          "output_type": "stream",
          "text": [
            "0.8557938692894772\n"
          ],
          "name": "stdout"
        }
      ]
    }
  ]
}